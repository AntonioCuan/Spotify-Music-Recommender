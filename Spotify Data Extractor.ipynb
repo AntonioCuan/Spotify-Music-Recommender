{
 "cells": [
  {
   "cell_type": "code",
   "execution_count": 1,
   "id": "70cfe77d",
   "metadata": {},
   "outputs": [],
   "source": [
    "import pandas as pd\n",
    "import spotipy\n",
    "from spotipy.oauth2 import SpotifyClientCredentials"
   ]
  },
  {
   "cell_type": "code",
   "execution_count": 2,
   "id": "18114bde",
   "metadata": {},
   "outputs": [],
   "source": [
    "auth_manager = SpotifyClientCredentials()\n",
    "sp = spotipy.Spotify(auth_manager=auth_manager)"
   ]
  },
  {
   "cell_type": "code",
   "execution_count": 36,
   "id": "0f96d1a2",
   "metadata": {},
   "outputs": [],
   "source": [
    "def analyze_playlist(creator, pl_id):\n",
    "    audio_feature_cols = ['danceability', 'energy', 'key', 'loudness', 'mode', 'speechiness', 'acousticness',\n",
    "                          'instrumentalness', 'liveness', 'valence', 'tempo', 'duration_ms', 'time_signature']\n",
    "    df = pd.DataFrame(columns=['name', 'album', 'artist', 'release_date', 'popularity', 'id']+audio_feature_cols)\n",
    "    \n",
    "    playlist = sp.user_playlist_tracks(creator, pl_id)['items']\n",
    "    for track_info in playlist:\n",
    "        track = track_info['track']\n",
    "        \n",
    "        name = track['name']\n",
    "        artist = track['artists'][0]['name']\n",
    "        album = track['album']['name']\n",
    "        release_date = track['album']['release_date']\n",
    "        popularity = track['popularity']\n",
    "        t_id = track['id']\n",
    "        \n",
    "        track_extracted_data = [name, album, artist, release_date, popularity, t_id]\n",
    "        \n",
    "        audio_features = sp.audio_features(track['id'])\n",
    "        for feature in audio_feature_cols:\n",
    "            track_extracted_data.append(audio_features[0][feature])\n",
    "        \n",
    "        df.loc[len(df)] = track_extracted_data\n",
    "    \n",
    "    return df"
   ]
  },
  {
   "cell_type": "code",
   "execution_count": 5,
   "id": "a04d170f",
   "metadata": {},
   "outputs": [],
   "source": [
    "rock_60s = analyze_playlist('Spotify', '37i9dQZF1DWWzBc3TOlaAV')\n",
    "rock_70s = analyze_playlist('Spotify', '37i9dQZF1DWWwzidNQX6jx')\n",
    "rock_80s = analyze_playlist('Spotify', '37i9dQZF1DX1spT6G94GFC')\n",
    "rock_90s = analyze_playlist('Spotify', '37i9dQZF1DX1rVvRgjX59F')\n",
    "rock_00s = analyze_playlist('Spotify', '37i9dQZF1DX3oM43CtKnRV')\n",
    "rock_classics = analyze_playlist('Spotify', '37i9dQZF1DWXRqgorJj26U')\n",
    "rock_df = pd.concat([rock_60s, rock_70s, rock_80s, rock_90s, rock_00s, rock_classics])\n",
    "rock_df.drop_duplicates(inplace=True)\n",
    "rock_df.to_csv('rock.csv', index=False)"
   ]
  },
  {
   "cell_type": "code",
   "execution_count": 10,
   "id": "a2667221",
   "metadata": {},
   "outputs": [
    {
     "data": {
      "text/plain": [
       "(528, 19)"
      ]
     },
     "execution_count": 10,
     "metadata": {},
     "output_type": "execute_result"
    }
   ],
   "source": [
    "rock_df.shape"
   ]
  },
  {
   "cell_type": "code",
   "execution_count": 12,
   "id": "db25c309",
   "metadata": {},
   "outputs": [],
   "source": [
    "pop_70s = analyze_playlist('Spotify', '37i9dQZF1DWTJ7xPn4vNaz')\n",
    "pop_80s = analyze_playlist('Spotify', '37i9dQZF1DX4UtSsGT1Sbe')\n",
    "pop_90s = analyze_playlist('Spotify', '37i9dQZF1DXbTxeAdrVG2l')\n",
    "pop_00s = analyze_playlist('Spotify', '37i9dQZF1DX4o1oenSJRJd')\n",
    "pop_10s = analyze_playlist('Spotify', '37i9dQZF1DX5Ejj0EkURtP')\n",
    "pop_classics = analyze_playlist('Spotify', '37i9dQZF1DX4v0Y84QklHD')\n",
    "pop_df = pd.concat([pop_70s, pop_80s, pop_90s, pop_00s, pop_10s, pop_classics])\n",
    "pop_df.drop_duplicates(inplace=True)\n",
    "pop_df.to_csv('pop.csv', index=False)"
   ]
  },
  {
   "cell_type": "code",
   "execution_count": 13,
   "id": "eaeebdb9",
   "metadata": {},
   "outputs": [
    {
     "data": {
      "text/plain": [
       "(534, 19)"
      ]
     },
     "execution_count": 13,
     "metadata": {},
     "output_type": "execute_result"
    }
   ],
   "source": [
    "pop_df.shape"
   ]
  },
  {
   "cell_type": "code",
   "execution_count": 16,
   "id": "8cebc9a6",
   "metadata": {},
   "outputs": [],
   "source": [
    "metal_1 = analyze_playlist('Spotify', '37i9dQZF1EQpgT26jgbgRI')\n",
    "metal_2 = analyze_playlist('Spotify', '37i9dQZF1DX2LTcinqsO68')\n",
    "metal_3 = analyze_playlist('Spotify', '37i9dQZF1DX08jcQJXDnEQ')\n",
    "hip_hop = analyze_playlist('Spotify', '37i9dQZF1EQnqst5TRi17F')\n",
    "pop_1 = analyze_playlist('Spotify', '37i9dQZF1EQncLwOalG3K7')\n",
    "pop_2 = analyze_playlist('maka_97', '6mtYuOxzl58vSGnEDtZ9uB')\n",
    "k_pop = analyze_playlist('Spotify', '37i9dQZF1EQpesGsmIyqcW')\n",
    "jazz = analyze_playlist('Spotify', '37i9dQZF1EQqA6klNdJvwx')\n",
    "rnb = analyze_playlist('Spotify', '37i9dQZF1EQoqCH7BwIYb7')\n",
    "classical = analyze_playlist('Spotify', '37i9dQZF1DWWEJlAGA9gs0')\n",
    "EDM = analyze_playlist('Yoshley', '3mb6U0hqR0N9A2uZXQH6se')"
   ]
  },
  {
   "cell_type": "code",
   "execution_count": 17,
   "id": "8c6fab41",
   "metadata": {},
   "outputs": [],
   "source": [
    "df_1 = pd.concat([metal_1, metal_2, hip_hop, pop_1, pop_2, k_pop, jazz, rnb, classical, EDM])\n",
    "df_1.drop_duplicates(inplace=True)\n",
    "df_1.to_csv('songs1.csv', index=False)"
   ]
  },
  {
   "cell_type": "code",
   "execution_count": 18,
   "id": "5cf29767",
   "metadata": {},
   "outputs": [
    {
     "data": {
      "text/plain": [
       "(693, 19)"
      ]
     },
     "execution_count": 18,
     "metadata": {},
     "output_type": "execute_result"
    }
   ],
   "source": [
    "df_1.shape"
   ]
  },
  {
   "cell_type": "code",
   "execution_count": 25,
   "id": "fb91bd62",
   "metadata": {},
   "outputs": [],
   "source": [
    "rock_df = pd.read_csv('rock.csv')\n",
    "pop_df = pd.read_csv('pop.csv')\n",
    "df_1 = pd.read_csv('songs1.csv')\n",
    "df = pd.concat([rock_df, pop_df, df_1])\n",
    "df.drop_duplicates(inplace=True)\n",
    "df.drop_duplicates(subset=['id'], inplace=True)\n",
    "df.to_csv('data.csv', index=False)"
   ]
  },
  {
   "cell_type": "code",
   "execution_count": 26,
   "id": "c2019a0c",
   "metadata": {},
   "outputs": [
    {
     "data": {
      "text/plain": [
       "(1684, 19)"
      ]
     },
     "execution_count": 26,
     "metadata": {},
     "output_type": "execute_result"
    }
   ],
   "source": [
    "df.shape"
   ]
  },
  {
   "cell_type": "code",
   "execution_count": null,
   "id": "d36f5dbe",
   "metadata": {},
   "outputs": [],
   "source": []
  }
 ],
 "metadata": {
  "kernelspec": {
   "display_name": "Python 3 (ipykernel)",
   "language": "python",
   "name": "python3"
  },
  "language_info": {
   "codemirror_mode": {
    "name": "ipython",
    "version": 3
   },
   "file_extension": ".py",
   "mimetype": "text/x-python",
   "name": "python",
   "nbconvert_exporter": "python",
   "pygments_lexer": "ipython3",
   "version": "3.9.7"
  }
 },
 "nbformat": 4,
 "nbformat_minor": 5
}
